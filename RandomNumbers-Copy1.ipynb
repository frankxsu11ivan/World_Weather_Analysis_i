{
 "cells": [
  {
   "cell_type": "code",
   "execution_count": 27,
   "id": "174d2d63",
   "metadata": {},
   "outputs": [],
   "source": [
    "# Import the random module.\n",
    "import random"
   ]
  },
  {
   "cell_type": "code",
   "execution_count": 28,
   "id": "7cf70cd1",
   "metadata": {},
   "outputs": [],
   "source": [
    "#random.randint(-90, 89) +  random.random()"
   ]
  },
  {
   "cell_type": "code",
   "execution_count": 29,
   "id": "db8bec7f",
   "metadata": {},
   "outputs": [],
   "source": [
    "#random.random()"
   ]
  },
  {
   "cell_type": "code",
   "execution_count": 30,
   "id": "9470782f",
   "metadata": {},
   "outputs": [
    {
     "data": {
      "text/plain": [
       "[-55.87061156808568,\n",
       " -49.44208715509267,\n",
       " 10.857923804611156,\n",
       " 61.874903399676974,\n",
       " -51.46845599104935,\n",
       " 58.19992397822032,\n",
       " 82.28227448375762,\n",
       " 57.964399118990734,\n",
       " -13.56343154225082,\n",
       " 12.288866697508375]"
      ]
     },
     "execution_count": 30,
     "metadata": {},
     "output_type": "execute_result"
    }
   ],
   "source": [
    "x = 1\n",
    "latitudes = []\n",
    "while x < 11:\n",
    "    random_lat = random.randint(-90, 89) + random.random()\n",
    "    latitudes.append(random_lat)\n",
    "    x += 1\n",
    "latitudes"
   ]
  },
  {
   "cell_type": "code",
   "execution_count": 31,
   "id": "902c8b89",
   "metadata": {},
   "outputs": [
    {
     "data": {
      "text/plain": [
       "72"
      ]
     },
     "execution_count": 31,
     "metadata": {},
     "output_type": "execute_result"
    }
   ],
   "source": [
    "random.randrange(-90, 90, step=3)"
   ]
  },
  {
   "cell_type": "code",
   "execution_count": 32,
   "id": "22743479",
   "metadata": {},
   "outputs": [
    {
     "data": {
      "text/plain": [
       "-12.702080586544312"
      ]
     },
     "execution_count": 32,
     "metadata": {},
     "output_type": "execute_result"
    }
   ],
   "source": [
    "random.uniform(-90, 90)"
   ]
  },
  {
   "cell_type": "code",
   "execution_count": 34,
   "id": "9110d7e4",
   "metadata": {},
   "outputs": [
    {
     "data": {
      "text/plain": [
       "[37.92746512506578,\n",
       " 130.68850683595747,\n",
       " 30.98210714327352,\n",
       " -14.273961569930142,\n",
       " -101.03281062530964,\n",
       " 1.5697062710585123,\n",
       " -151.8197406584397,\n",
       " 19.895589020966376,\n",
       " -15.90107438790459,\n",
       " -5.876518854138724]"
      ]
     },
     "execution_count": 34,
     "metadata": {},
     "output_type": "execute_result"
    }
   ],
   "source": [
    "x = 1\n",
    "longitude = []\n",
    "while x < 11:\n",
    "    random_long = random.randint(-180, 179) + random.random()\n",
    "    longitude.append(random_long)\n",
    "    x += 1\n",
    "longitude"
   ]
  },
  {
   "cell_type": "code",
   "execution_count": 48,
   "id": "61ededb8",
   "metadata": {},
   "outputs": [],
   "source": [
    "# Import the NumPy module.\n",
    "import numpy as np"
   ]
  },
  {
   "cell_type": "code",
   "execution_count": 49,
   "id": "8612f598",
   "metadata": {},
   "outputs": [
    {
     "data": {
      "text/plain": [
       "-51.176104322558125"
      ]
     },
     "execution_count": 49,
     "metadata": {},
     "output_type": "execute_result"
    }
   ],
   "source": [
    "np.random.uniform(-90.000, 90.000)"
   ]
  },
  {
   "cell_type": "code",
   "execution_count": 50,
   "id": "6dc5c854",
   "metadata": {},
   "outputs": [
    {
     "data": {
      "text/plain": [
       "array([ 18.39419938, -67.63772247, -21.29627435,  87.38678223,\n",
       "       -14.56213728, -65.28534688,  29.5485354 , -41.345888  ,\n",
       "        42.75361613, -32.39351265, -86.63896825,  12.02834279,\n",
       "       -11.98645464,  24.21468361,  76.96045698, -51.62434635,\n",
       "        53.47361258, -57.58179686,  19.96577836,  66.28810576,\n",
       "        38.47716212, -87.51889784, -46.57312716,  46.68092829,\n",
       "       -37.31897002,  84.02092769,  22.94198871,  61.91666075,\n",
       "        39.84933357, -36.13111093,  29.65722871,  -8.32097004,\n",
       "        72.0987613 ,  24.22252299,   0.10116994,  44.12366185,\n",
       "       -44.77660963,  31.9181167 , -51.09011875,  -2.98063038,\n",
       "        47.26111778,  11.2375726 ,   2.25824485,  80.03209994,\n",
       "        74.34425958, -78.67144937,  86.22346533,  58.89302721,\n",
       "       -51.92343854, -39.67171716])"
      ]
     },
     "execution_count": 50,
     "metadata": {},
     "output_type": "execute_result"
    }
   ],
   "source": [
    "np.random.uniform(-90.000, 90.000,size=50)"
   ]
  },
  {
   "cell_type": "code",
   "execution_count": 51,
   "id": "52303636",
   "metadata": {},
   "outputs": [],
   "source": [
    "# Import timeit.\n",
    "import timeit"
   ]
  },
  {
   "cell_type": "code",
   "execution_count": 52,
   "id": "06737438",
   "metadata": {},
   "outputs": [
    {
     "name": "stdout",
     "output_type": "stream",
     "text": [
      "12.8 µs ± 216 ns per loop (mean ± std. dev. of 7 runs, 100000 loops each)\n"
     ]
    }
   ],
   "source": [
    "%timeit np.random.uniform(-90.000, 90.000, size=1500)"
   ]
  },
  {
   "cell_type": "code",
   "execution_count": 53,
   "id": "323df786",
   "metadata": {},
   "outputs": [
    {
     "name": "stdout",
     "output_type": "stream",
     "text": [
      "2.17 ms ± 104 µs per loop (mean ± std. dev. of 7 runs, 1000 loops each)\n"
     ]
    }
   ],
   "source": [
    "def latitudes(size):\n",
    "    latitudes = []\n",
    "    x = 0\n",
    "    while x < (size):\n",
    "        random_lat = random.randint(-90, 90) + random.random()\n",
    "        latitudes.append(random_lat)\n",
    "        x += 1\n",
    "    return latitudes\n",
    "# Call the function with 1500.\n",
    "%timeit latitudes(1500)"
   ]
  },
  {
   "cell_type": "code",
   "execution_count": null,
   "id": "9ef88058",
   "metadata": {},
   "outputs": [],
   "source": []
  }
 ],
 "metadata": {
  "kernelspec": {
   "display_name": "PythonData",
   "language": "python",
   "name": "pythondata"
  },
  "language_info": {
   "codemirror_mode": {
    "name": "ipython",
    "version": 3
   },
   "file_extension": ".py",
   "mimetype": "text/x-python",
   "name": "python",
   "nbconvert_exporter": "python",
   "pygments_lexer": "ipython3",
   "version": "3.7.10"
  }
 },
 "nbformat": 4,
 "nbformat_minor": 5
}
